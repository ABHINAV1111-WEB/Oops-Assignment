{
  "nbformat": 4,
  "nbformat_minor": 0,
  "metadata": {
    "colab": {
      "provenance": []
    },
    "kernelspec": {
      "name": "python3",
      "display_name": "Python 3"
    },
    "language_info": {
      "name": "python"
    }
  },
  "cells": [
    {
      "cell_type": "markdown",
      "source": [
        "**1. What is Object-Oriented Programming (OOP)?**\n",
        "\n",
        "**Ans:**\n",
        "Object-Oriented Programming (OOP) is a way of designing and coding software by modeling real-world entities as \"objects\". These objects bundle data (attributes) and behavior (methods) together, enabling better organization, reusability, and scalability in programming."
      ],
      "metadata": {
        "id": "UVxjQZHwCfEa"
      }
    },
    {
      "cell_type": "markdown",
      "source": [
        "**2. What is a class in OOP?**\n",
        "\n",
        "**Ans:**\n",
        "In Object-Oriented Programming (OOP), a class is a blueprint or template for creating objects. It defines the structure and behavior of an object by specifying its attributes (data members) and methods (functions)."
      ],
      "metadata": {
        "id": "siKg6lq_DXJQ"
      }
    },
    {
      "cell_type": "markdown",
      "source": [
        "**3. What is an object in OOP?**\n",
        "\n",
        "Ans:\n",
        "In Object-Oriented Programming (OOP), an object is a fundamental unit that encapsulates data and the methods operating on that data. It represents real-world entities or abstract concepts within a program, allowing for modular, reusable, and organized code structures."
      ],
      "metadata": {
        "id": "JdHqPgCXEPID"
      }
    },
    {
      "cell_type": "markdown",
      "source": [
        "**4. What is the difference between abstraction and encapsulation?**\n",
        "\n",
        "**Ans:**\n",
        "**Difference between abstraction and encapsulation:**\n",
        "**Abstration:**\n",
        "Abstraction is the practice of exposing only the necessary information about an object or system while hiding its internal details. It provides a simplified representation of complex reality, focusing on essential features and behaviors. Abstraction helps in reducing complexity, improving modularity, and facilitating code reusability.\n",
        "\n",
        "**Encapsulation:**\n",
        "Encapsulation is the concept of bundling data and methods that manipulate that data within a single unit, making it harder for other parts of the program to access or modify the data directly. Encapsulation provides data hiding, which helps in protecting the internal state of an object from external interference and misuse."
      ],
      "metadata": {
        "id": "JzzuaINlEu0d"
      }
    },
    {
      "cell_type": "markdown",
      "source": [
        "**5. What are dunder methods in Python ?**\n",
        "\n",
        "**Ans:**\n",
        "Dunder\" stands for \"Double UNDERscore\", referring to the special methods in Python that are surrounded by double underscores (__). These methods are also called magic methods because they allow you to customize and enhance your objects' behavior in an almost \"magical\" way.\n",
        "Dunder methods give Python objects special functionality, allowing you to interact with them in intuitive and seamless ways, like using operators (+, -, *), printing an object, or even defining its length."
      ],
      "metadata": {
        "id": "6pYrrUYOF6Vk"
      }
    },
    {
      "cell_type": "markdown",
      "source": [
        "**6. Explain the concept of inheritance in OOP ?**\n",
        "\n",
        "**Ans:**\n",
        "Inheritance is one of the core principles of OOP that allows a class (child or derived class) to acquire the properties and behaviors (attributes and methods) of another class (parent or base class).\n",
        "\n",
        "**Importace of Inheritance:**\n",
        "Code Reusability: Avoid repeating code by inheriting existing functionality.\n",
        "\n",
        "Logical Hierarchies: Organize similar classes under a structured hierarchy.\n",
        "\n",
        "Extensibility: Add or modify functionalities in child classes without altering parent classes.\n",
        "\n",
        "**Types of Inheritance:**\n",
        "Single Inheritance: A child class inherits from one parent class.\n",
        "\n",
        "Multiple Inheritance: A child class inherits from multiple parent classes.\n",
        "\n",
        "Multilevel Inheritance: A chain where a class inherits from another class, which in turn inherits from another class.\n",
        "\n",
        "Hierarchical Inheritance: Multiple child classes inherit from a single parent class.\n",
        "\n",
        "Hybrid Inheritance: A mix of two or more types of inheritance."
      ],
      "metadata": {
        "id": "83cij4zoGc5D"
      }
    },
    {
      "cell_type": "markdown",
      "source": [
        "**7. What is polymorphism in OOP ?**\n",
        "\n",
        "**Ans:**\n",
        "Polymorphism derives from the Greek words poly (many) and morphe (forms), meaning \"many forms.\" In OOP, it allows objects of different classes to be treated as objects of a common base class, enabling the same function or method to behave differently depending on the object it is acting upon."
      ],
      "metadata": {
        "id": "CWgfmQxPHITA"
      }
    },
    {
      "cell_type": "markdown",
      "source": [
        "**8. How is encapsulation achieved in Python ?**\n",
        "\n",
        "**Ans:**\n",
        "In Python, encapsulation is achieved by restricting access to certain attributes and methods of a class. This ensures that the internal state of an object is protected and can only be changed in a controlled manner. Python accomplishes this through access modifiers—like public, private, and protected.\n",
        "\n",
        "**Key Steps to Achieve Encapsulation:**\n",
        "\n",
        "Declare Attributes and Methods:\n",
        "\n",
        "By default, all attributes and methods are public in Python, meaning they can be accessed directly.\n",
        "\n",
        "Restrict Access with Access Modifiers:\n",
        "\n",
        "Public (attribute): Accessible from anywhere.\n",
        "\n",
        "Protected (_attribute): Indicated by a single underscore. It’s a convention to indicate that it’s meant for internal use, though technically still accessible outside the class.\n",
        "\n",
        "Private (__attribute): Indicated by double underscores, making it inaccessible directly from outside the class (name mangling is applied).\n",
        "\n",
        "Provide Controlled Access:\n",
        "\n",
        "Use getter and setter methods to interact with private attributes while still keeping control over how data is accessed or modified."
      ],
      "metadata": {
        "id": "ZpZsRN-YHYvx"
      }
    },
    {
      "cell_type": "markdown",
      "source": [
        "**9. What is a constructor in Python ?**\n",
        "\n",
        "**Ans:**\n",
        "A constructor in Python is a special method of a class that is automatically called when an object of that class is created. It is used to initialize the attributes of the class. Constructors are defined using the __init__ method."
      ],
      "metadata": {
        "id": "Lyno-kRBH2y0"
      }
    },
    {
      "cell_type": "markdown",
      "source": [
        "**10. What are class and static methods in Python ?**\n",
        "\n",
        "**Ans:**\n",
        "**Class Methods:**\n",
        "Class methods are methods that are bound to the class rather than the instance of the class. They can access or modify class state, i.e., class variables. Class methods are defined using the @classmethod decorator.\n",
        "**Key Points:**\n",
        "Defined using the @classmethod decorator.\n",
        "\n",
        "The first parameter is always cls, which represents the class itself.\n",
        "\n",
        "Typically used when you need to work with class variables or create alternative constructors.\n",
        "\n",
        "**Static Method:**\n",
        "Static methods are methods that belong to a class rather than an instance of the class. They do not have access to the class or instance variables. Static methods are defined using the @staticmethod decorator.\n",
        "\n",
        "**Key Points:**\n",
        "Defined using the @staticmethod decorator.\n",
        "\n",
        "Does not take self or cls as a parameter.\n",
        "\n",
        "Used for performing tasks or calculations that don’t involve class or instance data."
      ],
      "metadata": {
        "id": "N78hBtucILSI"
      }
    },
    {
      "cell_type": "markdown",
      "source": [
        "**11. What is method overloading in Python?**\n",
        "\n",
        "**Ans:**\n",
        "In Python, method overloading refers to the ability to define a method in a class that can perform different actions based on the number or type of arguments passed to it\n",
        "Python does not natively support method overloading because functions in Python are dynamically typed and can accept any number of arguments."
      ],
      "metadata": {
        "id": "HTAg9QIhJO5i"
      }
    },
    {
      "cell_type": "markdown",
      "source": [
        "**12. What is method overriding in OOP ?**\n",
        "\n",
        "**Ans:**\n",
        "Method overriding is a fundamental concept in object-oriented programming (OOP) that allows a subclass or derived class to provide a specific implementation for a method that is already defined in its superclass or base class.\n",
        "\n",
        "**Characteristics of Method Overriding:**\n",
        "\n",
        "Same method name: The method in the subclass has the same name as the method in the superclass.\n",
        "\n",
        "Same method signature: The method in the subclass has the same parameter list as the method in the superclass.\n",
        "\n",
        "Different implementation: The method in the subclass provides a different implementation than the method in the superclass."
      ],
      "metadata": {
        "id": "JvPrjNT2LtAj"
      }
    },
    {
      "cell_type": "markdown",
      "source": [
        "**13. What is a property decorator in Python ?**\n",
        "\n",
        "**Ans:**\n",
        "The @property decorator in Python is used to define a getter method for an attribute, making it behave like an attribute (rather than a method) when accessed. It is a built-in decorator that provides a clean and Pythonic way to control access to an object's attributes."
      ],
      "metadata": {
        "id": "6w-n8RB_NFou"
      }
    },
    {
      "cell_type": "markdown",
      "source": [
        "**14. Why is polymorphism important in OOP ?**\n",
        "\n",
        "**Ans:**\n",
        "Polymorphism is a fundamental concept in object-oriented programming (OOP) that allows objects of different classes to be treated as objects of a common superclass. This enables more flexibility, generic code, and increased modularity.\n",
        "\n",
        "**Imortance of Polymorphism in OOP:**\n",
        "\n",
        "Increased flexibility: Polymorphism allows for more flexibility in programming, as objects of different classes can be treated uniformly.\n",
        "\n",
        "Generic code: Polymorphism enables the creation of generic code that can work with objects of different classes, reducing code duplication and increasing reusability.\n",
        "\n",
        "Easier maintenance and modification: With polymorphism, changes to the program can be made more easily, as the code is more modular and flexible.\n",
        "\n",
        "Improved extensibility: Polymorphism makes it easier to add new classes or functionality to the program without affecting existing code.\n",
        "\n",
        "Enhanced code readability: Polymorphism promotes code readability by allowing for more descriptive and intuitive variable names and method calls."
      ],
      "metadata": {
        "id": "CsWLAafJNUrH"
      }
    },
    {
      "cell_type": "markdown",
      "source": [
        "**15. What is an abstract class in Python?**\n",
        "\n",
        "**Ans:**\n",
        "An abstract class is a class that serves as a blueprint for other classes. It cannot be instantiated (i.e., you cannot create objects from it). Instead, it is designed to be inherited by subclasses, which then provide concrete implementations for its abstract methods.\n",
        "In Python, abstract classes are defined using the abc module, where abc stands for Abstract Base Classes."
      ],
      "metadata": {
        "id": "V4w5I75EOBtv"
      }
    },
    {
      "cell_type": "markdown",
      "source": [
        "**16. What are the advantages of OOP?**\n",
        "\n",
        "**Ans:**\n",
        "**Advantages of OOP:**\n",
        "\n",
        "Modularity: OOP allows for the creation of self-contained modules (classes) that can be easily reused and modified.\n",
        "\n",
        "Reusability: OOP enables code reusability through inheritance, where a subclass can inherit properties and behavior from a superclass.\n",
        "\n",
        "Abstraction: OOP provides abstraction, which allows for the representation of complex systems in a simplified way, focusing on essential features and behaviors.\n",
        "\n",
        "Encapsulation: OOP promotes encapsulation, which hides internal implementation details and exposes only necessary information to the outside world.\n",
        "\n",
        "Polymorphism: OOP supports polymorphism, which enables objects of different classes to be treated as objects of a common superclass.\n",
        "\n",
        "Easier Maintenance and Modification: OOP makes it easier to modify and maintain existing code, as changes can be made at the class or object level without affecting other parts of the program.\n",
        "\n",
        "Improved Code Readability and Organization: OOP promotes code readability and organization by using intuitive and descriptive class and method names.\n",
        "\n",
        "Better Error Handling: OOP allows for better error handling, as exceptions can be handled at the class or object level.\n",
        "\n",
        "Enhanced Security: OOP provides enhanced security, as encapsulation and abstraction help protect internal implementation details from external interference.\n",
        "\n",
        "Faster Development: OOP enables faster development, as existing classes and objects can be reused and modified to create new applications."
      ],
      "metadata": {
        "id": "MlFOmh-4PFDM"
      }
    },
    {
      "cell_type": "markdown",
      "source": [
        "**17. What is the difference between a class variable and an instance variable ?**\n",
        "\n",
        "**Ans:**\n",
        "In object-oriented programming (OOP), a class variable and an instance variable are two types of variables that are used to store data in a class.\n",
        "\n",
        "**Class Variable:**\n",
        "A class variable is a variable that is shared by all instances of a class. It is defined inside the class definition but outside any instance method. Class variables are also known as static variables.\n",
        "\n",
        "Characteristics of Class Variables\n",
        "Shared by all instances: Class variables are shared by all instances of a class.\n",
        "Defined inside the class definition: Class variables are defined inside the class definition but outside any instance method.\n",
        "\n",
        "Same value for all instances: Class variables have the same value for all instances of a class.\n",
        "\n",
        "**Instance Variable:**\n",
        "\n",
        "An instance variable is a variable that is unique to each instance of a class. It is defined inside an instance method or in the __init__ method.\n",
        "\n",
        "Characteristics of Instance Variables\n",
        "Unique to each instance: Instance variables are unique to each instance of a class.\n",
        "\n",
        "Defined inside an instance method or __init__ method: Instance variables are defined inside an instance method or in the __init__ method.\n",
        "\n",
        "Different value for each instance: Instance variables can have different values for each instance of a class.\n"
      ],
      "metadata": {
        "id": "YlhXRXEGPoH6"
      }
    },
    {
      "cell_type": "markdown",
      "source": [
        "**18. What is multiple inheritance in Python ?**\n",
        "\n",
        "**Ans:**\n",
        "Multiple inheritance is a feature in object-oriented programming where a class (child class) can inherit attributes and methods from more than one parent class. In Python, this means a single class can have multiple base classes, allowing it to combine and extend their functionality.\n",
        "This provides flexibility and code reusability."
      ],
      "metadata": {
        "id": "jWf9A9dAQV76"
      }
    },
    {
      "cell_type": "markdown",
      "source": [
        "**19. Explain the purpose of ‘’__str__’ and ‘__repr__’ ‘ methods in Python.**\n",
        "\n",
        "**Ans:**\n",
        "In Python, the __str__ and __repr__ methods are special methods that are used to provide a string representation of an object.\n",
        "\n",
        "**__str__ Method:**\n",
        "\n",
        "The __str__ method is used to return a human-readable string representation of an object. It is called when the str() or print() function is used on an object.\n",
        "Purpose of __str__ Method\n",
        "\n",
        "Human-readable representation: The __str__ method provides a human-readable string representation of an object.\n",
        "Used for printing: The __str__ method is used when printing an object using the print() function.\n",
        "\n",
        "**__repr__ Method:**\n",
        "\n",
        "The __repr__ method is used to return a string representation of an object that is useful for debugging and logging. It is called when the repr() function is used on an object.\n",
        "\n",
        "Purpose of __repr__ Method\n",
        "Debugging and logging: The __repr__ method provides a string representation of an object that is useful for debugging and logging.\n",
        "\n",
        "Unambiguous representation: The __repr__ method should provide an unambiguous representation of an object, ideally one that could be used to recreate the object."
      ],
      "metadata": {
        "id": "RYBmp5tXQueu"
      }
    },
    {
      "cell_type": "markdown",
      "source": [
        "**20.  What is the significance of the ‘super()’ function in Python?**\n",
        "\n",
        "**Ans:**\n",
        "The super() function allows you to access methods or attributes of a parent class (also known as a superclass) from within a child class. It is most commonly used to call the constructor (__init__) or other methods of a parent class, ensuring that the parent class’s functionality is properly inherited and utilized.\n",
        "\n",
        "**Significance of the super() Function**\n",
        "\n",
        "Avoids Redundant Code:\n",
        "\n",
        "Instead of manually specifying the parent class name, you can use super() to dynamically access it. This ensures cleaner and more maintainable code.\n",
        "\n",
        "Supports Multiple Inheritance:\n",
        "\n",
        "In complex inheritance hierarchies, super() resolves the Method Resolution Order (MRO) dynamically, ensuring that methods are called in the correct order.\n",
        "\n",
        "Enables Reuse of Parent Class Functionality:\n",
        "\n",
        "super() allows child classes to use functionality defined in parent classes without needing to rewrite it.\n",
        "\n",
        "Improves Readability and Maintainability:\n",
        "\n",
        "Since super() dynamically refers to the parent class, it makes code easier to modify and extend when inheritance relationships evolve.\n",
        "\n",
        "Works with Method Overriding:\n",
        "\n",
        "The function is particularly helpful when a child class overrides a parent method and still needs to call the parent class’s implementation."
      ],
      "metadata": {
        "id": "_ojcIRpFRjYI"
      }
    },
    {
      "cell_type": "markdown",
      "source": [
        "**21. What is the significance of the __del__ method in Python?**\n",
        "\n",
        "**Ans:**\n",
        "The __del__ method in Python is a special method that is automatically called when an object is about to be destroyed. This method is also known as a destructor.\n",
        "\n",
        "**Significance of the __del__ Method:**\n",
        "\n",
        "Resource deallocation: The __del__ method is used to deallocate resources such as file handles, network connections, or database connections that were allocated during the object's lifetime.\n",
        "Cleanup actions: The __del__ method can be used to perform cleanup actions such as deleting temporary files or releasing system resources.\n",
        "Debugging and logging: The __del__ method can be used to log information about the object's destruction or to perform debugging actions."
      ],
      "metadata": {
        "id": "DoevO358SZqu"
      }
    },
    {
      "cell_type": "markdown",
      "source": [
        "**22. What is the difference between @staticmethod and @classmethod in Python?**\n",
        "\n",
        "**Ans:**\n",
        "**Difference between @staticmethod and @classmethod in Python:**\n",
        "\n",
        "**@staticmethod Decorator:**\n",
        "\n",
        "The @staticmethod decorator is used to define a static method, which is a method that belongs to a class rather than an instance of the class. A static method does not have access to the class or instance variables.\n",
        "\n",
        "Characteristics of @staticmethod\n",
        "No access to class or instance variables: A static method does not have access to the class or instance variables.\n",
        "\n",
        "Cannot modify class or instance state: A static method cannot modify the class or instance state.\n",
        "\n",
        "Essentially a regular function: A static method is essentially a regular function that is defined inside a class.\n",
        "\n",
        "**@classmethod Decorator:**\n",
        "\n",
        "The @classmethod decorator is used to define a class method, which is a method that is bound to the class rather than an instance of the class. A class method has access to the class variables.\n",
        "\n",
        "Characteristics of @classmethod:\n",
        "\n",
        "Has access to class variables: A class method has access to the class variables.\n",
        "\n",
        "Can modify class state: A class method can modify the class state.\n",
        "\n",
        "Used for alternative constructors: Class methods are often used to define alternative constructors."
      ],
      "metadata": {
        "id": "RCbDK4s6S6D9"
      }
    },
    {
      "cell_type": "markdown",
      "source": [
        "**23. How does polymorphism work in Python with inheritance ?**\n",
        "\n",
        "**Ans:**\n",
        "In Python, polymorphism allows different classes to define methods with the same name, so objects of these classes can be used interchangeably. When combined with inheritance, polymorphism ensures that the most specific method (from the child class) is executed, even if the object is being referred to as an instance of the parent class.\n",
        "\n",
        "This is achieved using method overriding, where child classes provide their own implementation of a parent class method. Polymorphism ensures that the correct method is called at runtime based on the type of object."
      ],
      "metadata": {
        "id": "zBCxcuYpUH-B"
      }
    },
    {
      "cell_type": "markdown",
      "source": [
        "**24. What is method chaining in Python OOP?**\n",
        "\n",
        "**Ans:**\n",
        "Method chaining is a programming technique where multiple methods are called on the same object in a single statement, one after the other. Each method in the chain performs some operation and returns the object itself, making it possible to call the next method on the same object."
      ],
      "metadata": {
        "id": "za4sh0NLUqNE"
      }
    },
    {
      "cell_type": "markdown",
      "source": [
        "**25. What is the purpose of the __call__ method in Python?**\n",
        "\n",
        "**Ans:**\n",
        "The __call__ method in Python is a special method that allows an object to be called as a function.\n",
        "\n",
        "**Purpose of the __call__ Method:**\n",
        "\n",
        "Make an object callable : The __call__ method makes an object callable, allowing it to be invoked like a function.\n",
        "\n",
        "Customize function-like behavior : By defining the __call__ method, you can customize the behavior of an object when it is called as a function.\n",
        "\n",
        "Enable function-like syntax : The __call__ method enables function-like syntax for an object, making it easier to use and integrate with other parts of your code."
      ],
      "metadata": {
        "id": "En7GgEejU7vb"
      }
    },
    {
      "cell_type": "markdown",
      "source": [
        "**Practical Questions:**\n",
        "\n",
        "1. Create a parent class Animal with a method speak() that prints a generic message. Create a child class Dog\n",
        "that overrides the speak() method to print \"Bark!\".\n",
        "\n",
        "**Ans:**"
      ],
      "metadata": {
        "id": "Thfc6o2tVdC7"
      }
    },
    {
      "cell_type": "code",
      "source": [
        "class Animal:\n",
        "    def speak(self):\n",
        "        print(\"This is a generic animal sound.\")\n",
        "\n",
        "class Dog(Animal):\n",
        "    def speak(self):\n",
        "        print(\"Bark!\")\n",
        "\n",
        "dog= Dog()\n",
        "dog.speak()\n",
        "\n"
      ],
      "metadata": {
        "colab": {
          "base_uri": "https://localhost:8080/"
        },
        "id": "RyF991_pXPkt",
        "outputId": "4d8beb54-d94d-44c7-f527-2d49af5d993a"
      },
      "execution_count": 3,
      "outputs": [
        {
          "output_type": "stream",
          "name": "stdout",
          "text": [
            "Bark!\n"
          ]
        }
      ]
    },
    {
      "cell_type": "markdown",
      "source": [
        "**2. Write a program to create an abstract class Shape with a method area(). Derive classes Circle and Rectangle**\n",
        "**from it and implement the area() method in both.**\n",
        "\n",
        "**Ans:**"
      ],
      "metadata": {
        "id": "WZmYlybUXeTe"
      }
    },
    {
      "cell_type": "code",
      "source": [
        "from abc import ABC, abstractmethod\n",
        "\n",
        "class Shape(ABC):\n",
        "    @abstractmethod\n",
        "    def area(self):\n",
        "        pass\n",
        "\n",
        "class Circle(Shape):\n",
        "    def __init__(self, radius):\n",
        "        self.radius = radius\n",
        "\n",
        "    def area(self):\n",
        "        return 3.14 * self.radius ** 2\n",
        "\n",
        "class Rectangle(Shape):\n",
        "    def __init__(self, width, height):\n",
        "        self.width = width\n",
        "        self.height = height\n",
        "\n",
        "    def area(self):\n",
        "        return self.width * self.height\n",
        "\n",
        "circle = Circle(5)\n",
        "rectangle = Rectangle(4, 6)\n",
        "\n",
        "print(f\"Area of the Circle: {circle.area()}\")\n",
        "print(f\"Area of the Rectangle: {rectangle.area()}\")\n"
      ],
      "metadata": {
        "colab": {
          "base_uri": "https://localhost:8080/"
        },
        "id": "v0h9WHhjYNOb",
        "outputId": "9859bd2e-ba78-4cb6-c7a3-5f57d47b97ad"
      },
      "execution_count": 4,
      "outputs": [
        {
          "output_type": "stream",
          "name": "stdout",
          "text": [
            "Area of the Circle: 78.5\n",
            "Area of the Rectangle: 24\n"
          ]
        }
      ]
    },
    {
      "cell_type": "markdown",
      "source": [
        "3. Implement a multi-level inheritance scenario where a class Vehicle has an attribute type. Derive a class Car\n",
        "and further derive a class ElectricCar that adds a battery attribute.\n",
        "\n",
        "**Ans:**"
      ],
      "metadata": {
        "id": "8jzrtFR6YhgT"
      }
    },
    {
      "cell_type": "code",
      "source": [
        "class Vehicle:\n",
        "    def __init__(self, vehicle_type):\n",
        "        self.vehicle_type = vehicle_type\n",
        "\n",
        "    def describe(self):\n",
        "        print(f\"This is a {self.vehicle_type}.\")\n",
        "\n",
        "class Car(Vehicle):\n",
        "    def __init__(self, vehicle_type, brand):\n",
        "        super().__init__(vehicle_type)\n",
        "        self.brand = brand\n",
        "\n",
        "    def describe_car(self):\n",
        "        print(f\"This is a {self.brand} car.\")\n",
        "\n",
        "\n",
        "class ElectricCar(Car):\n",
        "    def __init__(self, vehicle_type, brand, battery_capacity):\n",
        "        super().__init__(vehicle_type, brand)\n",
        "        self.battery_capacity = battery_capacity\n",
        "\n",
        "    def describe_electric_car(self):\n",
        "        print(f\"This is an electric car by {self.brand} with a {self.battery_capacity} kWh battery.\")\n",
        "\n",
        "\n",
        "tesla = ElectricCar(\"Electric Vehicle\", \"BYD\", 75)\n",
        "\n",
        "tesla.describe()\n",
        "tesla.describe_car()\n",
        "tesla.describe_electric_car()\n"
      ],
      "metadata": {
        "colab": {
          "base_uri": "https://localhost:8080/"
        },
        "id": "y2i2zghMZJOe",
        "outputId": "efadc560-a01e-48d4-a3c0-d3d03d3e92b8"
      },
      "execution_count": 6,
      "outputs": [
        {
          "output_type": "stream",
          "name": "stdout",
          "text": [
            "This is a Electric Vehicle.\n",
            "This is a BYD car.\n",
            "This is an electric car by BYD with a 75 kWh battery.\n"
          ]
        }
      ]
    },
    {
      "cell_type": "markdown",
      "source": [
        "4. Demonstrate polymorphism by creating a base class Bird with a method fly(). Create two derived classes\n",
        "Sparrow and Penguin that override the fly() method.\n",
        "\n",
        "**Ans:**\n"
      ],
      "metadata": {
        "id": "mi2wxzAiZn4V"
      }
    },
    {
      "cell_type": "code",
      "source": [
        "\n",
        "class Bird:\n",
        "    def fly(self):\n",
        "        print(\"Some birds can fly.\")\n",
        "\n",
        "class Sparrow(Bird):\n",
        "    def fly(self):\n",
        "        print(\"Sparrow flies high in the sky.\")\n",
        "\n",
        "class Penguin(Bird):\n",
        "    def fly(self):\n",
        "        print(\"Penguins cannot fly but they swim gracefully.\")\n",
        "\n",
        "def show_flying_ability(bird):\n",
        "    bird.fly()\n",
        "\n",
        "sparrow = Sparrow()\n",
        "penguin = Penguin()\n",
        "\n",
        "show_flying_ability(sparrow)\n",
        "show_flying_ability(penguin)\n"
      ],
      "metadata": {
        "colab": {
          "base_uri": "https://localhost:8080/"
        },
        "id": "g7dyzsiSZ109",
        "outputId": "3c56bb80-473c-4419-eb33-f332838d48ba"
      },
      "execution_count": 8,
      "outputs": [
        {
          "output_type": "stream",
          "name": "stdout",
          "text": [
            "Sparrow flies high in the sky.\n",
            "Penguins cannot fly but they swim gracefully.\n"
          ]
        }
      ]
    },
    {
      "cell_type": "markdown",
      "source": [
        "5. Write a program to demonstrate encapsulation by creating a class BankAccount with private attributes\n",
        "balance and methods to deposit, withdraw, and check balance.\n",
        "\n",
        "**Ans:**"
      ],
      "metadata": {
        "id": "Wp0ewWAMadMV"
      }
    },
    {
      "cell_type": "code",
      "source": [
        "class BankAccount:\n",
        "    def __init__(self, account_holder, initial_balance=0):\n",
        "        self.__account_holder = account_holder\n",
        "        self.__balance = initial_balance\n",
        "\n",
        "    def deposit(self, amount):\n",
        "        if amount > 0:\n",
        "            self.__balance += amount\n",
        "            print(f\"Deposited {amount}. New balance is {self.__balance}.\")\n",
        "        else:\n",
        "            print(\"Deposit amount must be positive.\")\n",
        "\n",
        "    def withdraw(self, amount):\n",
        "        if 0 < amount <= self.__balance:\n",
        "            self.__balance -= amount\n",
        "            print(f\"Withdrew {amount}. New balance is {self.__balance}.\")\n",
        "        else:\n",
        "            print(\"Invalid withdrawal amount or insufficient balance.\")\n",
        "\n",
        "    def check_balance(self):\n",
        "        print(f\"Account holder: {self.__account_holder}\")\n",
        "        print(f\"Available balance: {self.__balance}\")\n",
        "\n",
        "account = BankAccount(\"Abhinav\", 1000)\n",
        "\n",
        "account.check_balance()\n",
        "account.deposit(500)\n",
        "account.withdraw(200)\n",
        "account.withdraw(2000)"
      ],
      "metadata": {
        "colab": {
          "base_uri": "https://localhost:8080/"
        },
        "id": "QCZ1C6fDaj2G",
        "outputId": "3196326a-d354-4ea4-efb8-3b608f6f7176"
      },
      "execution_count": 10,
      "outputs": [
        {
          "output_type": "stream",
          "name": "stdout",
          "text": [
            "Account holder: Abhinav\n",
            "Available balance: 1000\n",
            "Deposited 500. New balance is 1500.\n",
            "Withdrew 200. New balance is 1300.\n",
            "Invalid withdrawal amount or insufficient balance.\n"
          ]
        }
      ]
    },
    {
      "cell_type": "markdown",
      "source": [
        "6. Demonstrate runtime polymorphism using a method play() in a base class Instrument. Derive classes Guitar\n",
        "and Piano that implement their own version of play().\n",
        "\n",
        "**Ans:**"
      ],
      "metadata": {
        "id": "ShYCJ2RFbckc"
      }
    },
    {
      "cell_type": "code",
      "source": [
        "class Instrument:\n",
        "    def play(self):\n",
        "        print(\"Playing an instrument...\")\n",
        "\n",
        "class Guitar(Instrument):\n",
        "    def play(self):\n",
        "        print(\"Strumming the strings of the Guitar...\")\n",
        "\n",
        "class Piano(Instrument):\n",
        "    def play(self):\n",
        "        print(\"Pressing the keys of the Piano...\")\n",
        "\n",
        "def perform(instrument):\n",
        "    instrument.play()\n",
        "\n",
        "guitar = Guitar()\n",
        "piano = Piano()\n",
        "\n",
        "perform(guitar)\n",
        "perform(piano)\n"
      ],
      "metadata": {
        "colab": {
          "base_uri": "https://localhost:8080/"
        },
        "id": "rCAF_55obibb",
        "outputId": "1aa21f85-4e81-4767-8e9d-5c2385fd50f2"
      },
      "execution_count": 12,
      "outputs": [
        {
          "output_type": "stream",
          "name": "stdout",
          "text": [
            "Strumming the strings of the Guitar...\n",
            "Pressing the keys of the Piano...\n"
          ]
        }
      ]
    },
    {
      "cell_type": "markdown",
      "source": [
        "7. Create a class MathOperations with a class method add_numbers() to add two numbers and a static method subtract_numbers() to subtract two numbers.\n",
        "\n",
        "**Ans:**"
      ],
      "metadata": {
        "id": "kPI4lKxebz9s"
      }
    },
    {
      "cell_type": "code",
      "source": [
        "class MathOperations:\n",
        "    @classmethod\n",
        "    def add_numbers(cls, a, b):\n",
        "        return a + b\n",
        "\n",
        "    @staticmethod\n",
        "    def subtract_numbers(a, b):\n",
        "        return a - b\n",
        "\n",
        "sum_result = MathOperations.add_numbers(10, 5)\n",
        "print(f\"The sum of 10 and 5 is: {sum_result}\")\n",
        "\n",
        "difference_result = MathOperations.subtract_numbers(10, 5)\n",
        "print(f\"The difference between 10 and 5 is: {difference_result}\")\n"
      ],
      "metadata": {
        "colab": {
          "base_uri": "https://localhost:8080/"
        },
        "id": "pYXfVVyxcMJt",
        "outputId": "dfa4417c-2ab7-483a-f1bc-5842c8869d55"
      },
      "execution_count": 13,
      "outputs": [
        {
          "output_type": "stream",
          "name": "stdout",
          "text": [
            "The sum of 10 and 5 is: 15\n",
            "The difference between 10 and 5 is: 5\n"
          ]
        }
      ]
    },
    {
      "cell_type": "markdown",
      "source": [
        "8. Implement a class Person with a class method to count the total number of persons created.\n",
        "\n",
        "Ans:"
      ],
      "metadata": {
        "id": "XCz0LaqTcX_R"
      }
    },
    {
      "cell_type": "code",
      "source": [
        "class Person:\n",
        "    total_persons = 0\n",
        "\n",
        "    def __init__(self, name, age):\n",
        "        self.name = name\n",
        "        self.age = age\n",
        "\n",
        "        Person.total_persons += 1\n",
        "\n",
        "    @classmethod\n",
        "    def get_total_persons(cls):\n",
        "        return cls.total_persons\n",
        "\n",
        "person1 = Person(\"Abhinav\", 25)\n",
        "person2 = Person(\"Ananya\", 30)\n",
        "person3 = Person(\"Rahul\", 28)\n",
        "\n",
        "print(f\"Total persons created: {Person.get_total_persons()}\")\n",
        "\n"
      ],
      "metadata": {
        "colab": {
          "base_uri": "https://localhost:8080/"
        },
        "id": "yqbQ-eI7cdRR",
        "outputId": "a9fa1b5c-b431-47fe-da77-f02aa52ce17c"
      },
      "execution_count": 16,
      "outputs": [
        {
          "output_type": "stream",
          "name": "stdout",
          "text": [
            "Total persons created: 3\n"
          ]
        }
      ]
    },
    {
      "cell_type": "markdown",
      "source": [
        "9. Write a class Fraction with attributes numerator and denominator. Override the str method to display the\n",
        "fraction as \"numerator/denominator\".\n",
        "\n",
        "**Ans:**"
      ],
      "metadata": {
        "id": "be9GmzA2c-wJ"
      }
    },
    {
      "cell_type": "code",
      "source": [
        "class Fraction:\n",
        "    def __init__(self, numerator, denominator):\n",
        "        self.numerator = numerator\n",
        "        self.denominator = denominator\n",
        "\n",
        "    def __str__(self):\n",
        "      return f\"{self.numerator}/{self.denominator}\"\n",
        "\n",
        "fraction1 = Fraction(3, 4)\n",
        "fraction2 = Fraction(5, 8)\n",
        "\n",
        "print(fraction1)\n",
        "print(fraction2)\n",
        "\n"
      ],
      "metadata": {
        "colab": {
          "base_uri": "https://localhost:8080/"
        },
        "id": "9V14pxwCdE5M",
        "outputId": "345ed906-f3d3-4e53-cbec-6a6ec2fcd1a7"
      },
      "execution_count": 20,
      "outputs": [
        {
          "output_type": "stream",
          "name": "stdout",
          "text": [
            "3/4\n",
            "5/8\n"
          ]
        }
      ]
    },
    {
      "cell_type": "markdown",
      "source": [
        "10. Demonstrate operator overloading by creating a class Vector and overriding the add method to add two\n",
        "vectors.\n",
        "\n",
        "**Ans:**"
      ],
      "metadata": {
        "id": "5QEsToNNdmF4"
      }
    },
    {
      "cell_type": "code",
      "source": [
        "class Vector:\n",
        "    def __init__(self, x, y):\n",
        "        self.x = x\n",
        "        self.y = y\n",
        "\n",
        "    def __add__(self, other):\n",
        "        return Vector(self.x + other.x, self.y + other.y)\n",
        "\n",
        "    def __str__(self):\n",
        "        return f\"({self.x}, {self.y})\"\n",
        "\n",
        "# Creating two vectors\n",
        "v1 = Vector(2, 3)\n",
        "v2 = Vector(4, 5)\n",
        "\n",
        "v3 = v1 + v2\n",
        "\n",
        "print(f\"Resultant(additional) Vector: {v3}\")\n"
      ],
      "metadata": {
        "colab": {
          "base_uri": "https://localhost:8080/"
        },
        "id": "_uotevyudspV",
        "outputId": "1018663e-4583-4bd7-c17b-659d1ff3f32a"
      },
      "execution_count": 24,
      "outputs": [
        {
          "output_type": "stream",
          "name": "stdout",
          "text": [
            "Resultant(additional) Vector: (6, 8)\n"
          ]
        }
      ]
    },
    {
      "cell_type": "markdown",
      "source": [
        "11. Create a class Person with attributes name and age. Add a method greet() that prints \"Hello, my name is\n",
        "{name} and I am {age} years old.\"\n",
        "\n",
        "**Ans:**"
      ],
      "metadata": {
        "id": "qkwNs6QcefUX"
      }
    },
    {
      "cell_type": "code",
      "source": [
        "class Person:\n",
        "    def __init__(self, name, age):\n",
        "        self.name = name\n",
        "        self.age = age\n",
        "\n",
        "    def greet(self):\n",
        "        print(f\"Hello, my name is {self.name} and I am {self.age} years old.\")\n",
        "\n",
        "person = Person(\"Abhinav\", 25)\n",
        "person.greet()\n"
      ],
      "metadata": {
        "colab": {
          "base_uri": "https://localhost:8080/"
        },
        "id": "JPhMSoc-eoHN",
        "outputId": "a37de7ce-a072-4e69-fd91-f118d62f5d65"
      },
      "execution_count": 25,
      "outputs": [
        {
          "output_type": "stream",
          "name": "stdout",
          "text": [
            "Hello, my name is Abhinav and I am 25 years old.\n"
          ]
        }
      ]
    },
    {
      "cell_type": "markdown",
      "source": [
        "12. Implement a class Student with attributes name and grades. Create a method average_grade() to compute\n",
        "the average of the grades.\n",
        "\n",
        "**Ans:**"
      ],
      "metadata": {
        "id": "FBgz13ANez1h"
      }
    },
    {
      "cell_type": "code",
      "source": [
        "class Student:\n",
        "    def __init__(self, name, grades):\n",
        "        self.name = name\n",
        "        self.grades = grades\n",
        "\n",
        "    def average_grade(self):\n",
        "        if len(self.grades) == 0:\n",
        "            return 0\n",
        "        return sum(self.grades) / len(self.grades)\n",
        "\n",
        "student = Student(\"Abhinav11\", [95, 100, 99, 92, 98])\n",
        "print(f\"Student Name: {student.name}\")\n",
        "print(f\"Grades: {student.grades}\")\n",
        "print(f\"Average Grade: {student.average_grade():.2f}\")\n"
      ],
      "metadata": {
        "colab": {
          "base_uri": "https://localhost:8080/"
        },
        "id": "_saOAIupe5wY",
        "outputId": "ff1cd8c5-7495-470b-d887-da3c2148cd26"
      },
      "execution_count": 31,
      "outputs": [
        {
          "output_type": "stream",
          "name": "stdout",
          "text": [
            "Student Name: Abhinav11\n",
            "Grades: [95, 100, 99, 92, 98]\n",
            "Average Grade: 96.80\n"
          ]
        }
      ]
    },
    {
      "cell_type": "markdown",
      "source": [
        "13. Create a class Rectangle with methods set_dimensions() to set the dimensions and area() to calculate the\n",
        "area.\n",
        "\n",
        "**Ans:**"
      ],
      "metadata": {
        "id": "BNXqx0LvfbR2"
      }
    },
    {
      "cell_type": "code",
      "source": [
        "class Rectangle:\n",
        "    def __init__(self):\n",
        "        self.length = 0\n",
        "        self.width = 0\n",
        "\n",
        "    def set_dimensions(self, length, width):\n",
        "        self.length = length\n",
        "        self.width = width\n",
        "\n",
        "    def area(self):\n",
        "        return self.length * self.width\n",
        "\n",
        "rect = Rectangle()\n",
        "rect.set_dimensions(5, 4)\n",
        "print(f\"The area of the rectangle is: {rect.area()}\")  # Output: The area of the rectangle is: 20\n"
      ],
      "metadata": {
        "colab": {
          "base_uri": "https://localhost:8080/"
        },
        "id": "MmYHP7cvfhXC",
        "outputId": "486d455c-dd43-4743-dd63-021e8220a2c7"
      },
      "execution_count": 33,
      "outputs": [
        {
          "output_type": "stream",
          "name": "stdout",
          "text": [
            "The area of the rectangle is: 20\n"
          ]
        }
      ]
    },
    {
      "cell_type": "markdown",
      "source": [
        "14. Create a class Employee with a method calculate_salary() that computes the salary based on hours worked\n",
        "and hourly rate. Create a derived class Manager that adds a bonus to the salary.\n",
        "\n",
        "**Ans:**"
      ],
      "metadata": {
        "id": "60K7iUegfu76"
      }
    },
    {
      "cell_type": "code",
      "source": [
        "class Employee:\n",
        "    def __init__(self, name, hourly_rate):\n",
        "        self.name = name\n",
        "        self.hourly_rate = hourly_rate\n",
        "\n",
        "    def calculate_salary(self, hours_worked):\n",
        "        return self.hourly_rate * hours_worked\n",
        "\n",
        "class Manager(Employee):\n",
        "    def __init__(self, name, hourly_rate, bonus):\n",
        "        super().__init__(name, hourly_rate)\n",
        "        self.bonus = bonus\n",
        "\n",
        "    def calculate_salary(self, hours_worked):\n",
        "        base_salary = super().calculate_salary(hours_worked)\n",
        "        return base_salary + self.bonus\n",
        "\n",
        "\n",
        "employee = Employee(\"Bijay\", 50)\n",
        "print(f\"{employee.name}'s Salary: {employee.calculate_salary(40)}\")\n",
        "\n",
        "manager = Manager(\"Ajay\", 60, 500)\n",
        "print(f\"{manager.name}'s Salary: {manager.calculate_salary(40)}\")"
      ],
      "metadata": {
        "colab": {
          "base_uri": "https://localhost:8080/"
        },
        "id": "Trnsavzjf1LM",
        "outputId": "31adb6f5-8954-4e2f-aa6b-7aec0aba16ec"
      },
      "execution_count": 35,
      "outputs": [
        {
          "output_type": "stream",
          "name": "stdout",
          "text": [
            "Bijay's Salary: 2000\n",
            "Ajay's Salary: 2900\n"
          ]
        }
      ]
    },
    {
      "cell_type": "markdown",
      "source": [
        "15. Create a class Product with attributes name, price, and quantity. Implement a method total_price() that\n",
        "calculates the total price of the product.\n",
        "\n",
        "**Ans:**"
      ],
      "metadata": {
        "id": "tnFcr_3Dge82"
      }
    },
    {
      "cell_type": "code",
      "source": [
        "class Product:\n",
        "    def __init__(self, name, price, quantity):\n",
        "        self.name = name\n",
        "        self.price = price\n",
        "        self.quantity = quantity\n",
        "\n",
        "    def total_price(self):\n",
        "        return self.price * self.quantity\n",
        "\n",
        "product = Product(\"OLED Laptop\", 75000, 2)\n",
        "print(f\"Product: {product.name}\")\n",
        "print(f\"Price per unit: {product.price}\")\n",
        "print(f\"Quantity: {product.quantity}\")\n",
        "print(f\"Total Price: {product.total_price()}\")\n"
      ],
      "metadata": {
        "colab": {
          "base_uri": "https://localhost:8080/"
        },
        "id": "3cW7BPK2gme5",
        "outputId": "efaf0195-20e1-4ec5-f65c-2dea5ca8650a"
      },
      "execution_count": 38,
      "outputs": [
        {
          "output_type": "stream",
          "name": "stdout",
          "text": [
            "Product: OLED Laptop\n",
            "Price per unit: 75000\n",
            "Quantity: 2\n",
            "Total Price: 150000\n"
          ]
        }
      ]
    },
    {
      "cell_type": "markdown",
      "source": [
        "16. Create a class Animal with an abstract method sound(). Create two derived classes Cow and Sheep that\n",
        "implement the sound() method.\n",
        "\n",
        "**Ans:**"
      ],
      "metadata": {
        "id": "PjKGQA5IhCUI"
      }
    },
    {
      "cell_type": "code",
      "source": [
        "from abc import ABC, abstractmethod\n",
        "\n",
        "class Animal(ABC):\n",
        "    @abstractmethod\n",
        "    def sound(self):\n",
        "        pass\n",
        "\n",
        "class Cow(Animal):\n",
        "    def sound(self):\n",
        "        return \"Moo\"\n",
        "\n",
        "class Sheep(Animal):\n",
        "    def sound(self):\n",
        "        return \"Baa\"\n",
        "\n",
        "cow = Cow()\n",
        "sheep = Sheep()\n",
        "\n",
        "print(f\"The Cow says: {cow.sound()}\")\n",
        "print(f\"The Sheep says: {sheep.sound()}\")\n"
      ],
      "metadata": {
        "colab": {
          "base_uri": "https://localhost:8080/"
        },
        "id": "nAHqDNMQhWFI",
        "outputId": "05f93817-79eb-4319-a71c-d36ee5d647ae"
      },
      "execution_count": 40,
      "outputs": [
        {
          "output_type": "stream",
          "name": "stdout",
          "text": [
            "The Cow says: Moo\n",
            "The Sheep says: Baa\n"
          ]
        }
      ]
    },
    {
      "cell_type": "markdown",
      "source": [
        "17. Create a class Book with attributes title, author, and year_published. Add a method get_book_info() that\n",
        "returns a formatted string with the book's details.\n",
        "\n",
        "**Ans:**"
      ],
      "metadata": {
        "id": "uFYCIMNIhjgQ"
      }
    },
    {
      "cell_type": "code",
      "source": [
        "class Book:\n",
        "    def __init__(self, title, author, year_published):\n",
        "        self.title = title\n",
        "        self.author = author\n",
        "        self.year_published = year_published\n",
        "\n",
        "    def get_book_info(self):\n",
        "        return f\"'{self.title}' by {self.author}, published in {self.year_published}.\"\n",
        "\n",
        "book = Book(\"Think and Grow Rich\", \"Napolean Hill\", 1937)\n",
        "print(book.get_book_info())\n"
      ],
      "metadata": {
        "colab": {
          "base_uri": "https://localhost:8080/"
        },
        "id": "nshKAE-2hoRo",
        "outputId": "5b889be1-e86a-40a7-bb6f-66811c5fd0be"
      },
      "execution_count": 42,
      "outputs": [
        {
          "output_type": "stream",
          "name": "stdout",
          "text": [
            "'Think and Grow Rich' by Napolean Hill, published in 1937.\n"
          ]
        }
      ]
    },
    {
      "cell_type": "markdown",
      "source": [
        "18. Create a class House with attributes address and price. Create a derived class Mansion that adds an\n",
        "attribute number_of_rooms.\n",
        "\n",
        "**Ans:**"
      ],
      "metadata": {
        "id": "GcusERjTiZw7"
      }
    },
    {
      "cell_type": "code",
      "source": [
        "class House:\n",
        "    def __init__(self, address, price):\n",
        "        self.address = address\n",
        "        self.price = price\n",
        "\n",
        "    def get_details(self):\n",
        "        return f\"Address: {self.address}, Price: Rs.{self.price}\"\n",
        "\n",
        "class Mansion(House):\n",
        "    def __init__(self, address, price, number_of_rooms):\n",
        "        super().__init__(address, price)\n",
        "        self.number_of_rooms = number_of_rooms\n",
        "\n",
        "    def get_details(self):\n",
        "        return f\"Address: {self.address}, Price: Rs.{self.price}, Rooms: {self.number_of_rooms}\"\n",
        "\n",
        "house = House(\"Delhi\", 25000)\n",
        "mansion = Mansion(\"Kanpur\", 150000, 10)\n",
        "\n",
        "print(house.get_details())\n",
        "print(mansion.get_details())\n"
      ],
      "metadata": {
        "colab": {
          "base_uri": "https://localhost:8080/"
        },
        "id": "Tne92b9Viggz",
        "outputId": "96f12310-bc01-4157-b323-dc6c8a49683b"
      },
      "execution_count": 46,
      "outputs": [
        {
          "output_type": "stream",
          "name": "stdout",
          "text": [
            "Address: Delhi, Price: Rs.25000\n",
            "Address: Kanpur, Price: Rs.150000, Rooms: 10\n"
          ]
        }
      ]
    }
  ]
}